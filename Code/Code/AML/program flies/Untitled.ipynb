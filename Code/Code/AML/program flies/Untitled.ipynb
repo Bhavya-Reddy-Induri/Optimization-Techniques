{
 "cells": [
  {
   "cell_type": "code",
   "execution_count": 2,
   "metadata": {},
   "outputs": [
    {
     "name": "stdout",
     "output_type": "stream",
     "text": [
      "(784, 10000) (1, 10000) (784, 1000) (1, 1000)\n"
     ]
    },
    {
     "data": {
      "image/png": "[encoded data removed]",
      "text/plain": [
       "<Figure size 432x288 with 1 Axes>"
      ]
     },
     "metadata": {
      "needs_background": "light"
     },
     "output_type": "display_data"
    }
   ],
   "source": [
    "import numpy as np\n",
    "import os\n",
    "import pdb\n",
    "import matplotlib.pyplot as plt\n",
    "datasets_dir = 'C:/Users/binduri1/Downloads/'\n",
    "\n",
    "\n",
    "def one_hot(x, n):\n",
    "    if type(x) == list:\n",
    "        x = np.array(x)\n",
    "    x = x.flatten()\n",
    "    o_h = np.zeros((len(x), n))\n",
    "    o_h[np.arange(len(x)), x] = 1\n",
    "    return o_h\n",
    "\n",
    "\n",
    "def mnist(noTrSamples=1000, noTsSamples=100, \\\n",
    "                        digit_range=[0, 1, 2, 3, 4, 5, 6, 7, 8, 9], \\\n",
    "                        noTrPerClass=100, noTsPerClass=10):\n",
    "    assert noTrSamples==noTrPerClass*len(digit_range), 'noTrSamples and noTrPerClass mismatch'\n",
    "    assert noTsSamples==noTsPerClass*len(digit_range), 'noTrSamples and noTrPerClass mismatch'\n",
    "    data_dir = os.path.join(datasets_dir, 'fashionmnist/')\n",
    "    fd = open(os.path.join(data_dir, 'train-images-idx3-ubyte'))\n",
    "    loaded = np.fromfile(file=fd, dtype=np.uint8)\n",
    "    trData = loaded[16:].reshape((60000, 28*28)).astype(float)\n",
    "\n",
    "    fd = open(os.path.join(data_dir, 'train-labels-idx1-ubyte'))\n",
    "    loaded = np.fromfile(file=fd, dtype=np.uint8)\n",
    "    trLabels = loaded[8:].reshape((60000)).astype(float)\n",
    "\n",
    "    fd = open(os.path.join(data_dir, 't10k-images-idx3-ubyte'))\n",
    "    loaded = np.fromfile(file=fd, dtype=np.uint8)\n",
    "    tsData = loaded[16:].reshape((10000, 28*28)).astype(float)\n",
    "\n",
    "    fd = open(os.path.join(data_dir, 't10k-labels-idx1-ubyte'))\n",
    "    loaded = np.fromfile(file=fd, dtype=np.uint8)\n",
    "    tsLabels = loaded[8:].reshape((10000)).astype(float)\n",
    "\n",
    "    trData = trData/255.\n",
    "    tsData = tsData/255.\n",
    "\n",
    "    tsX = np.zeros((noTsSamples, 28*28))\n",
    "    trX = np.zeros((noTrSamples, 28*28))\n",
    "    tsY = np.zeros(noTsSamples)\n",
    "    trY = np.zeros(noTrSamples)\n",
    "\n",
    "    count = 0\n",
    "    for ll in digit_range:\n",
    "        # Train data\n",
    "        idl = np.where(trLabels == ll)\n",
    "        idl = idl[0][: noTrPerClass]\n",
    "        idx = list(range(count*noTrPerClass, (count+1)*noTrPerClass))\n",
    "        trX[idx, :] = trData[idl, :]\n",
    "        trY[idx] = trLabels[idl]\n",
    "        # Test data\n",
    "        idl = np.where(tsLabels == ll)\n",
    "        idl = idl[0][: noTsPerClass]\n",
    "        idx = list(range(count*noTsPerClass, (count+1)*noTsPerClass))\n",
    "        tsX[idx, :] = tsData[idl, :]\n",
    "        tsY[idx] = tsLabels[idl]\n",
    "        count += 1\n",
    "\n",
    "    np.random.seed(1)\n",
    "    test_idx = np.random.permutation(tsX.shape[0])\n",
    "    tsX = tsX[test_idx,:]\n",
    "    tsY = tsY[test_idx]\n",
    "\n",
    "    trX = trX.T\n",
    "    tsX = tsX.T\n",
    "    trY = trY.reshape(1, -1)\n",
    "    tsY = tsY.reshape(1, -1)\n",
    "    return trX, trY, tsX, tsY\n",
    "\n",
    "\n",
    "def main():\n",
    "    trX, trY, tsX, tsY = mnist(noTrSamples=10000,\n",
    "                               noTsSamples=1000, digit_range=[0, 1, 2, 3, 4, 5, 6, 7, 8, 9],\n",
    "                               noTrPerClass=1000, noTsPerClass=100)\n",
    "    print(trX.shape,trY.shape,tsX.shape,tsY.shape)\n",
    "\n",
    "\n",
    "\n",
    "    plt.imshow(trX[:,5].reshape(28, -1))\n",
    "    trY[0,5]\n",
    "\n",
    "\n",
    "if __name__ == \"__main__\":\n",
    "    main()\n",
    "\n",
    "\n"
   ]
  },
  {
   "cell_type": "code",
   "execution_count": null,
   "metadata": {},
   "outputs": [],
   "source": []
  }
 ],
 "metadata": {
  "kernelspec": {
   "display_name": "Python 3",
   "language": "python",
   "name": "python3"
  },
  "language_info": {
   "codemirror_mode": {
    "name": "ipython",
    "version": 3
   },
   "file_extension": ".py",
   "mimetype": "text/x-python",
   "name": "python",
   "nbconvert_exporter": "python",
   "pygments_lexer": "ipython3",
   "version": "3.7.4"
  }
 },
 "nbformat": 4,
 "nbformat_minor": 2
}
